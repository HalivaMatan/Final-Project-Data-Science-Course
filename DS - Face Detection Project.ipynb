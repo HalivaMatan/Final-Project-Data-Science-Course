{
 "cells": [
  {
   "cell_type": "markdown",
   "id": "moral-applicant",
   "metadata": {},
   "source": [
    "### Introduction"
   ]
  },
  {
   "cell_type": "markdown",
   "id": "powerful-general",
   "metadata": {},
   "source": [
    "### Training Process\n",
    "\n",
    "#### Step 1: Look for faces from video frames\n",
    "\n",
    "#### Step 2: Calculate the embedding vector for every face\n",
    "\n",
    "    A face embedding is a vector that represents the features extracted from the face.\n",
    "    For example, another vector that is close (by some measure) may be the same person,\n",
    "    whereas another vector that is far (by some measure) may be a different person.\n",
    "\n",
    "#### Step 3: Perform the clustering of the embedding vectors\n",
    "     \n",
    "    The goal of the clustering is to figure out which set of the embedding corresponds to the user.\n",
    "    We use DBScan for clustering.\n",
    "\n",
    "    We do not know how many people will appear on the images.\n",
    "    As a result, we should not use “number_of_clusters” as an input to our clustering algorithm.\n",
    "    \n",
    "    For this reason, we used DBScan. Major challenge of using DBSCAN algorithm is to find right\n",
    "    set hyper parameters(eps and min_samples values) to fit in to the algorithm for getting accurate result.    "
   ]
  },
  {
   "cell_type": "markdown",
   "id": "balanced-spokesman",
   "metadata": {},
   "source": [
    "### Importing the Libraries"
   ]
  },
  {
   "cell_type": "code",
   "execution_count": 1,
   "id": "dried-bubble",
   "metadata": {},
   "outputs": [
    {
     "name": "stderr",
     "output_type": "stream",
     "text": [
      "C:\\Users\\Haliva\\anaconda3\\envs\\myenv\\lib\\site-packages\\tensorflow\\python\\framework\\dtypes.py:526: FutureWarning: Passing (type, 1) or '1type' as a synonym of type is deprecated; in a future version of numpy, it will be understood as (type, (1,)) / '(1,)type'.\n",
      "  _np_qint8 = np.dtype([(\"qint8\", np.int8, 1)])\n",
      "C:\\Users\\Haliva\\anaconda3\\envs\\myenv\\lib\\site-packages\\tensorflow\\python\\framework\\dtypes.py:527: FutureWarning: Passing (type, 1) or '1type' as a synonym of type is deprecated; in a future version of numpy, it will be understood as (type, (1,)) / '(1,)type'.\n",
      "  _np_quint8 = np.dtype([(\"quint8\", np.uint8, 1)])\n",
      "C:\\Users\\Haliva\\anaconda3\\envs\\myenv\\lib\\site-packages\\tensorflow\\python\\framework\\dtypes.py:528: FutureWarning: Passing (type, 1) or '1type' as a synonym of type is deprecated; in a future version of numpy, it will be understood as (type, (1,)) / '(1,)type'.\n",
      "  _np_qint16 = np.dtype([(\"qint16\", np.int16, 1)])\n",
      "C:\\Users\\Haliva\\anaconda3\\envs\\myenv\\lib\\site-packages\\tensorflow\\python\\framework\\dtypes.py:529: FutureWarning: Passing (type, 1) or '1type' as a synonym of type is deprecated; in a future version of numpy, it will be understood as (type, (1,)) / '(1,)type'.\n",
      "  _np_quint16 = np.dtype([(\"quint16\", np.uint16, 1)])\n",
      "C:\\Users\\Haliva\\anaconda3\\envs\\myenv\\lib\\site-packages\\tensorflow\\python\\framework\\dtypes.py:530: FutureWarning: Passing (type, 1) or '1type' as a synonym of type is deprecated; in a future version of numpy, it will be understood as (type, (1,)) / '(1,)type'.\n",
      "  _np_qint32 = np.dtype([(\"qint32\", np.int32, 1)])\n",
      "C:\\Users\\Haliva\\anaconda3\\envs\\myenv\\lib\\site-packages\\tensorflow\\python\\framework\\dtypes.py:535: FutureWarning: Passing (type, 1) or '1type' as a synonym of type is deprecated; in a future version of numpy, it will be understood as (type, (1,)) / '(1,)type'.\n",
      "  np_resource = np.dtype([(\"resource\", np.ubyte, 1)])\n"
     ]
    }
   ],
   "source": [
    "from numpy import unique\n",
    "from numpy import where\n",
    "from sklearn.cluster import DBSCAN\n",
    "import numpy as np\n",
    "import pandas as pd\n",
    "from sklearn.decomposition import PCA\n",
    "from sklearn.cluster import KMeans, MeanShift, AgglomerativeClustering\n",
    "from sklearn.metrics import silhouette_score\n",
    "from itertools import product \n",
    "from plot_utils import plot_clusters, plot_pca_variance\n",
    "import time\n",
    "from face_detection import FaceDetection\n",
    "from action_recognition import ActionRecognition\n",
    "import cv2\n",
    "import seaborn as sns\n",
    "import scipy.cluster.hierarchy as sch\n",
    "import matplotlib.pyplot as plt"
   ]
  },
  {
   "cell_type": "markdown",
   "id": "rapid-cheese",
   "metadata": {},
   "source": [
    "### Collect Faces from video frames"
   ]
  },
  {
   "cell_type": "code",
   "execution_count": 2,
   "id": "agricultural-stage",
   "metadata": {
    "scrolled": true
   },
   "outputs": [
    {
     "name": "stderr",
     "output_type": "stream",
     "text": [
      "[2021-03-09 01:30:37,374] [TfPoseEstimator] [INFO] loading graph from C:\\Users\\Haliva\\Data Science\\Data Science Course - Final Project\\libs\\action_recognition\\models\\graph/mobilenet_thin/graph_opt.pb(default size=656x368)\n"
     ]
    },
    {
     "name": "stdout",
     "output_type": "stream",
     "text": [
      "mobilenet_thin\n",
      "656x368\n",
      "models/trained_classifier.pickle\n",
      "WARNING:tensorflow:From C:\\Users\\Haliva\\anaconda3\\envs\\myenv\\lib\\site-packages\\tensorflow\\python\\framework\\op_def_library.py:263: colocate_with (from tensorflow.python.framework.ops) is deprecated and will be removed in a future version.\n",
      "Instructions for updating:\n",
      "Colocations handled automatically by placer.\n",
      "WARNING:tensorflow:From C:\\Users\\Haliva\\anaconda3\\envs\\myenv\\lib\\site-packages\\tensorflow\\python\\keras\\layers\\core.py:143: calling dropout (from tensorflow.python.ops.nn_ops) with keep_prob is deprecated and will be removed in a future version.\n",
      "Instructions for updating:\n",
      "Please use `rate` instead of `keep_prob`. Rate should be set to `rate = 1 - keep_prob`.\n"
     ]
    }
   ],
   "source": [
    "action_recognition = ActionRecognition()\n",
    "faceDetection = FaceDetection()\n",
    "vs = cv2.VideoCapture(\"video.mp4\")\n",
    "faces = []\n",
    "\n",
    "\n",
    "# Loop Video Stream\n",
    "while True:\n",
    "\n",
    "    (grabbed, frame) = vs.read()\n",
    "    \n",
    "    if frame is None:\n",
    "        break\n",
    "        \n",
    "    # Step 2: Calculate the embedding vector for every face\n",
    "    temp = faceDetection.detect_faces(frame, \"video.mp4\", 0.95)\n",
    "    faces.extend(temp)\n",
    "    \n",
    "    frame = cv2.resize(frame, (300, 300))\n",
    "    cv2.imshow('camera2',frame) \n",
    "    \n",
    "    key = cv2.waitKey(1) & 0xFF\n",
    "\n",
    "    if key == ord('q'):\n",
    "        break\n",
    "    \n",
    "cv2.destroyAllWindows()"
   ]
  },
  {
   "cell_type": "markdown",
   "id": "vocational-highway",
   "metadata": {},
   "source": [
    "### Feature Reduction - PCA - Principal Components Analysis"
   ]
  },
  {
   "cell_type": "code",
   "execution_count": 3,
   "id": "developing-carry",
   "metadata": {},
   "outputs": [],
   "source": [
    " def get_best_pca_dimensions(data, threshold_variance = 90):\n",
    "\n",
    "    print(\"\\n-------------------- get_best_pca_dimensions --------------------\\n\")\n",
    "\n",
    "    n_components =  min(len(data), len(data[0]))\n",
    "    sns.set_theme()\n",
    "\n",
    "    pca = PCA(n_components=n_components)\n",
    "    pca.fit(data)\n",
    "    variance = pca.explained_variance_ratio_ \n",
    "    var=np.cumsum(np.round(variance, 3)*100)\n",
    "\n",
    "    plot_pca_variance(var)\n",
    "\n",
    "    best_pca_dimensions =  next(item[0] for item in enumerate(var) if item[1] > threshold_variance)\n",
    "    print(\"best_pca_dimensions for\", threshold_variance ,\"% Variance is: \", best_pca_dimensions, \"Features\\n\")\n",
    "    return best_pca_dimensions"
   ]
  },
  {
   "cell_type": "code",
   "execution_count": 4,
   "id": "liable-video",
   "metadata": {},
   "outputs": [],
   "source": [
    "def create_pca(faces, face_encodings, n_components = 20):\n",
    "\n",
    "    pca = PCA(n_components=n_components)\n",
    "    pca.fit(face_encodings)\n",
    "\n",
    "    pca_scale = pca.transform(face_encodings)\n",
    "    pca_df = pd.DataFrame(pca_scale)\n",
    "\n",
    "    pca_df_all_data = pd.DataFrame()\n",
    "    pca_df_all_data['face_location'] = faces.face_location\n",
    "    pca_df_all_data['image_path'] = faces.image_path\n",
    "    # pca_df_all_data['face_encodings'] = pd.Series(pca_scale.tolist())\n",
    "    pca_df_all_data['face_encodings'] = face_encodings\n",
    "\n",
    "    return pca_df_all_data, pca_df"
   ]
  },
  {
   "cell_type": "code",
   "execution_count": 5,
   "id": "radical-aspect",
   "metadata": {},
   "outputs": [
    {
     "name": "stdout",
     "output_type": "stream",
     "text": [
      "\n",
      "-------------------- get_best_pca_dimensions --------------------\n",
      "\n"
     ]
    },
    {
     "data": {
      "image/png": "[encoded data removed]",
      "text/plain": [
       "<Figure size 864x432 with 1 Axes>"
      ]
     },
     "metadata": {},
     "output_type": "display_data"
    },
    {
     "name": "stdout",
     "output_type": "stream",
     "text": [
      "best_pca_dimensions for 90 % Variance is:  12 Features\n",
      "\n"
     ]
    }
   ],
   "source": [
    "clustring_algorithms_results = []\n",
    "faces = pd.DataFrame(faces)\n",
    "face_encodings = faces['face_encoding'].tolist()\n",
    "best_pca_dimensions = get_best_pca_dimensions(face_encodings)\n",
    "pca_df_all_data, pca_df = create_pca(faces, face_encodings, best_pca_dimensions)"
   ]
  },
  {
   "cell_type": "code",
   "execution_count": 6,
   "id": "macro-dublin",
   "metadata": {},
   "outputs": [
    {
     "data": {
      "text/html": [
       "<div>\n",
       "<style scoped>\n",
       "    .dataframe tbody tr th:only-of-type {\n",
       "        vertical-align: middle;\n",
       "    }\n",
       "\n",
       "    .dataframe tbody tr th {\n",
       "        vertical-align: top;\n",
       "    }\n",
       "\n",
       "    .dataframe thead th {\n",
       "        text-align: right;\n",
       "    }\n",
       "</style>\n",
       "<table border=\"1\" class=\"dataframe\">\n",
       "  <thead>\n",
       "    <tr style=\"text-align: right;\">\n",
       "      <th></th>\n",
       "      <th>face_encoding</th>\n",
       "      <th>face_location</th>\n",
       "      <th>image_path</th>\n",
       "    </tr>\n",
       "  </thead>\n",
       "  <tbody>\n",
       "    <tr>\n",
       "      <th>0</th>\n",
       "      <td>[-1.1912599, -0.8228302, -0.40031707, -1.63635...</td>\n",
       "      <td>[1222, 50, 1525, 432]</td>\n",
       "      <td>video.mp4</td>\n",
       "    </tr>\n",
       "    <tr>\n",
       "      <th>1</th>\n",
       "      <td>[-1.2779435, -0.87038517, -0.37021828, -1.7669...</td>\n",
       "      <td>[1249, 52, 1546, 434]</td>\n",
       "      <td>video.mp4</td>\n",
       "    </tr>\n",
       "    <tr>\n",
       "      <th>2</th>\n",
       "      <td>[-1.0201672, -0.60240805, -0.6928619, -1.40743...</td>\n",
       "      <td>[1250, 22, 1562, 430]</td>\n",
       "      <td>video.mp4</td>\n",
       "    </tr>\n",
       "    <tr>\n",
       "      <th>3</th>\n",
       "      <td>[-1.1640614, -0.59016705, -0.5768476, -1.29468...</td>\n",
       "      <td>[1299, 11, 1629, 441]</td>\n",
       "      <td>video.mp4</td>\n",
       "    </tr>\n",
       "    <tr>\n",
       "      <th>4</th>\n",
       "      <td>[-0.95789826, -0.18442962, -0.9021818, -1.3385...</td>\n",
       "      <td>[1324, 19, 1654, 440]</td>\n",
       "      <td>video.mp4</td>\n",
       "    </tr>\n",
       "    <tr>\n",
       "      <th>...</th>\n",
       "      <td>...</td>\n",
       "      <td>...</td>\n",
       "      <td>...</td>\n",
       "    </tr>\n",
       "    <tr>\n",
       "      <th>295</th>\n",
       "      <td>[-1.4184235, -0.6505166, -0.9390658, -0.624670...</td>\n",
       "      <td>[1533, 452, 1830, 870]</td>\n",
       "      <td>video.mp4</td>\n",
       "    </tr>\n",
       "    <tr>\n",
       "      <th>296</th>\n",
       "      <td>[-1.1496332, -0.26877365, -0.20659196, -0.3247...</td>\n",
       "      <td>[737, 590, 985, 918]</td>\n",
       "      <td>video.mp4</td>\n",
       "    </tr>\n",
       "    <tr>\n",
       "      <th>297</th>\n",
       "      <td>[-1.4349687, -0.41537136, -1.2884346, -0.72868...</td>\n",
       "      <td>[1537, 469, 1833, 889]</td>\n",
       "      <td>video.mp4</td>\n",
       "    </tr>\n",
       "    <tr>\n",
       "      <th>298</th>\n",
       "      <td>[-1.1718473, -0.62041783, -0.26983872, -0.1617...</td>\n",
       "      <td>[779, 621, 1003, 923]</td>\n",
       "      <td>video.mp4</td>\n",
       "    </tr>\n",
       "    <tr>\n",
       "      <th>299</th>\n",
       "      <td>[-1.4955709, -0.22267507, -0.7278122, -0.97136...</td>\n",
       "      <td>[1546, 474, 1844, 901]</td>\n",
       "      <td>video.mp4</td>\n",
       "    </tr>\n",
       "  </tbody>\n",
       "</table>\n",
       "<p>300 rows × 3 columns</p>\n",
       "</div>"
      ],
      "text/plain": [
       "                                         face_encoding  \\\n",
       "0    [-1.1912599, -0.8228302, -0.40031707, -1.63635...   \n",
       "1    [-1.2779435, -0.87038517, -0.37021828, -1.7669...   \n",
       "2    [-1.0201672, -0.60240805, -0.6928619, -1.40743...   \n",
       "3    [-1.1640614, -0.59016705, -0.5768476, -1.29468...   \n",
       "4    [-0.95789826, -0.18442962, -0.9021818, -1.3385...   \n",
       "..                                                 ...   \n",
       "295  [-1.4184235, -0.6505166, -0.9390658, -0.624670...   \n",
       "296  [-1.1496332, -0.26877365, -0.20659196, -0.3247...   \n",
       "297  [-1.4349687, -0.41537136, -1.2884346, -0.72868...   \n",
       "298  [-1.1718473, -0.62041783, -0.26983872, -0.1617...   \n",
       "299  [-1.4955709, -0.22267507, -0.7278122, -0.97136...   \n",
       "\n",
       "              face_location image_path  \n",
       "0     [1222, 50, 1525, 432]  video.mp4  \n",
       "1     [1249, 52, 1546, 434]  video.mp4  \n",
       "2     [1250, 22, 1562, 430]  video.mp4  \n",
       "3     [1299, 11, 1629, 441]  video.mp4  \n",
       "4     [1324, 19, 1654, 440]  video.mp4  \n",
       "..                      ...        ...  \n",
       "295  [1533, 452, 1830, 870]  video.mp4  \n",
       "296    [737, 590, 985, 918]  video.mp4  \n",
       "297  [1537, 469, 1833, 889]  video.mp4  \n",
       "298   [779, 621, 1003, 923]  video.mp4  \n",
       "299  [1546, 474, 1844, 901]  video.mp4  \n",
       "\n",
       "[300 rows x 3 columns]"
      ]
     },
     "execution_count": 6,
     "metadata": {},
     "output_type": "execute_result"
    }
   ],
   "source": [
    "faces"
   ]
  },
  {
   "cell_type": "code",
   "execution_count": 7,
   "id": "representative-frontier",
   "metadata": {},
   "outputs": [
    {
     "data": {
      "text/html": [
       "<div>\n",
       "<style scoped>\n",
       "    .dataframe tbody tr th:only-of-type {\n",
       "        vertical-align: middle;\n",
       "    }\n",
       "\n",
       "    .dataframe tbody tr th {\n",
       "        vertical-align: top;\n",
       "    }\n",
       "\n",
       "    .dataframe thead th {\n",
       "        text-align: right;\n",
       "    }\n",
       "</style>\n",
       "<table border=\"1\" class=\"dataframe\">\n",
       "  <thead>\n",
       "    <tr style=\"text-align: right;\">\n",
       "      <th></th>\n",
       "      <th>0</th>\n",
       "      <th>1</th>\n",
       "      <th>2</th>\n",
       "      <th>3</th>\n",
       "      <th>4</th>\n",
       "      <th>5</th>\n",
       "      <th>6</th>\n",
       "      <th>7</th>\n",
       "      <th>8</th>\n",
       "      <th>9</th>\n",
       "      <th>10</th>\n",
       "      <th>11</th>\n",
       "    </tr>\n",
       "  </thead>\n",
       "  <tbody>\n",
       "    <tr>\n",
       "      <th>0</th>\n",
       "      <td>6.632051</td>\n",
       "      <td>5.462099</td>\n",
       "      <td>-5.114827</td>\n",
       "      <td>-0.721870</td>\n",
       "      <td>-0.420408</td>\n",
       "      <td>-0.581613</td>\n",
       "      <td>-1.126621</td>\n",
       "      <td>-0.311334</td>\n",
       "      <td>-1.596250</td>\n",
       "      <td>-1.181629</td>\n",
       "      <td>1.237681</td>\n",
       "      <td>-2.154640</td>\n",
       "    </tr>\n",
       "    <tr>\n",
       "      <th>1</th>\n",
       "      <td>7.063499</td>\n",
       "      <td>5.764046</td>\n",
       "      <td>-4.736115</td>\n",
       "      <td>-0.788277</td>\n",
       "      <td>0.005537</td>\n",
       "      <td>-0.777543</td>\n",
       "      <td>-1.780529</td>\n",
       "      <td>-0.315537</td>\n",
       "      <td>-1.299415</td>\n",
       "      <td>-1.275315</td>\n",
       "      <td>1.460270</td>\n",
       "      <td>-2.071229</td>\n",
       "    </tr>\n",
       "    <tr>\n",
       "      <th>2</th>\n",
       "      <td>7.209326</td>\n",
       "      <td>6.061231</td>\n",
       "      <td>-4.227365</td>\n",
       "      <td>-0.543843</td>\n",
       "      <td>-0.343146</td>\n",
       "      <td>-0.501081</td>\n",
       "      <td>-1.911965</td>\n",
       "      <td>-0.314760</td>\n",
       "      <td>-0.921060</td>\n",
       "      <td>-1.292680</td>\n",
       "      <td>1.264362</td>\n",
       "      <td>-1.965599</td>\n",
       "    </tr>\n",
       "    <tr>\n",
       "      <th>3</th>\n",
       "      <td>7.631540</td>\n",
       "      <td>5.803324</td>\n",
       "      <td>-4.597648</td>\n",
       "      <td>-0.728529</td>\n",
       "      <td>-0.956847</td>\n",
       "      <td>0.268161</td>\n",
       "      <td>-1.769117</td>\n",
       "      <td>-0.682694</td>\n",
       "      <td>-0.840343</td>\n",
       "      <td>-1.317338</td>\n",
       "      <td>1.162375</td>\n",
       "      <td>-1.268344</td>\n",
       "    </tr>\n",
       "    <tr>\n",
       "      <th>4</th>\n",
       "      <td>7.703223</td>\n",
       "      <td>5.364998</td>\n",
       "      <td>-4.360388</td>\n",
       "      <td>-1.022363</td>\n",
       "      <td>-0.997751</td>\n",
       "      <td>0.583872</td>\n",
       "      <td>-1.171742</td>\n",
       "      <td>-0.946971</td>\n",
       "      <td>-1.261848</td>\n",
       "      <td>-1.638705</td>\n",
       "      <td>0.530497</td>\n",
       "      <td>-1.634429</td>\n",
       "    </tr>\n",
       "    <tr>\n",
       "      <th>5</th>\n",
       "      <td>7.628506</td>\n",
       "      <td>4.863581</td>\n",
       "      <td>-3.849565</td>\n",
       "      <td>-1.537682</td>\n",
       "      <td>-0.855728</td>\n",
       "      <td>0.148452</td>\n",
       "      <td>-1.025853</td>\n",
       "      <td>-0.004170</td>\n",
       "      <td>-1.264347</td>\n",
       "      <td>-1.966710</td>\n",
       "      <td>0.326345</td>\n",
       "      <td>-1.691318</td>\n",
       "    </tr>\n",
       "    <tr>\n",
       "      <th>6</th>\n",
       "      <td>6.933752</td>\n",
       "      <td>5.416652</td>\n",
       "      <td>-4.739520</td>\n",
       "      <td>-0.321093</td>\n",
       "      <td>-0.706659</td>\n",
       "      <td>-0.550434</td>\n",
       "      <td>-1.240540</td>\n",
       "      <td>-0.712841</td>\n",
       "      <td>-0.991507</td>\n",
       "      <td>-2.131953</td>\n",
       "      <td>1.166796</td>\n",
       "      <td>-0.688864</td>\n",
       "    </tr>\n",
       "    <tr>\n",
       "      <th>7</th>\n",
       "      <td>3.956941</td>\n",
       "      <td>-3.253599</td>\n",
       "      <td>3.965481</td>\n",
       "      <td>1.705531</td>\n",
       "      <td>-1.897862</td>\n",
       "      <td>9.600417</td>\n",
       "      <td>1.613751</td>\n",
       "      <td>0.244367</td>\n",
       "      <td>1.317958</td>\n",
       "      <td>-0.053662</td>\n",
       "      <td>1.574837</td>\n",
       "      <td>-0.986045</td>\n",
       "    </tr>\n",
       "    <tr>\n",
       "      <th>8</th>\n",
       "      <td>3.534425</td>\n",
       "      <td>-3.273304</td>\n",
       "      <td>3.703535</td>\n",
       "      <td>1.947101</td>\n",
       "      <td>-1.347885</td>\n",
       "      <td>9.847428</td>\n",
       "      <td>1.660205</td>\n",
       "      <td>0.533434</td>\n",
       "      <td>0.843553</td>\n",
       "      <td>0.145402</td>\n",
       "      <td>1.386519</td>\n",
       "      <td>-1.017408</td>\n",
       "    </tr>\n",
       "    <tr>\n",
       "      <th>9</th>\n",
       "      <td>3.180732</td>\n",
       "      <td>-1.827404</td>\n",
       "      <td>2.871335</td>\n",
       "      <td>2.154563</td>\n",
       "      <td>-1.573911</td>\n",
       "      <td>10.384267</td>\n",
       "      <td>1.257343</td>\n",
       "      <td>0.042798</td>\n",
       "      <td>1.825613</td>\n",
       "      <td>0.592592</td>\n",
       "      <td>2.141253</td>\n",
       "      <td>-0.442133</td>\n",
       "    </tr>\n",
       "  </tbody>\n",
       "</table>\n",
       "</div>"
      ],
      "text/plain": [
       "         0         1         2         3         4          5         6   \\\n",
       "0  6.632051  5.462099 -5.114827 -0.721870 -0.420408  -0.581613 -1.126621   \n",
       "1  7.063499  5.764046 -4.736115 -0.788277  0.005537  -0.777543 -1.780529   \n",
       "2  7.209326  6.061231 -4.227365 -0.543843 -0.343146  -0.501081 -1.911965   \n",
       "3  7.631540  5.803324 -4.597648 -0.728529 -0.956847   0.268161 -1.769117   \n",
       "4  7.703223  5.364998 -4.360388 -1.022363 -0.997751   0.583872 -1.171742   \n",
       "5  7.628506  4.863581 -3.849565 -1.537682 -0.855728   0.148452 -1.025853   \n",
       "6  6.933752  5.416652 -4.739520 -0.321093 -0.706659  -0.550434 -1.240540   \n",
       "7  3.956941 -3.253599  3.965481  1.705531 -1.897862   9.600417  1.613751   \n",
       "8  3.534425 -3.273304  3.703535  1.947101 -1.347885   9.847428  1.660205   \n",
       "9  3.180732 -1.827404  2.871335  2.154563 -1.573911  10.384267  1.257343   \n",
       "\n",
       "         7         8         9         10        11  \n",
       "0 -0.311334 -1.596250 -1.181629  1.237681 -2.154640  \n",
       "1 -0.315537 -1.299415 -1.275315  1.460270 -2.071229  \n",
       "2 -0.314760 -0.921060 -1.292680  1.264362 -1.965599  \n",
       "3 -0.682694 -0.840343 -1.317338  1.162375 -1.268344  \n",
       "4 -0.946971 -1.261848 -1.638705  0.530497 -1.634429  \n",
       "5 -0.004170 -1.264347 -1.966710  0.326345 -1.691318  \n",
       "6 -0.712841 -0.991507 -2.131953  1.166796 -0.688864  \n",
       "7  0.244367  1.317958 -0.053662  1.574837 -0.986045  \n",
       "8  0.533434  0.843553  0.145402  1.386519 -1.017408  \n",
       "9  0.042798  1.825613  0.592592  2.141253 -0.442133  "
      ]
     },
     "execution_count": 7,
     "metadata": {},
     "output_type": "execute_result"
    }
   ],
   "source": [
    "pca_df.head(10)"
   ]
  },
  {
   "cell_type": "code",
   "execution_count": 8,
   "id": "peaceful-easter",
   "metadata": {},
   "outputs": [
    {
     "data": {
      "text/html": [
       "<div>\n",
       "<style scoped>\n",
       "    .dataframe tbody tr th:only-of-type {\n",
       "        vertical-align: middle;\n",
       "    }\n",
       "\n",
       "    .dataframe tbody tr th {\n",
       "        vertical-align: top;\n",
       "    }\n",
       "\n",
       "    .dataframe thead th {\n",
       "        text-align: right;\n",
       "    }\n",
       "</style>\n",
       "<table border=\"1\" class=\"dataframe\">\n",
       "  <thead>\n",
       "    <tr style=\"text-align: right;\">\n",
       "      <th></th>\n",
       "      <th>face_location</th>\n",
       "      <th>image_path</th>\n",
       "      <th>face_encodings</th>\n",
       "    </tr>\n",
       "  </thead>\n",
       "  <tbody>\n",
       "    <tr>\n",
       "      <th>0</th>\n",
       "      <td>[1222, 50, 1525, 432]</td>\n",
       "      <td>video.mp4</td>\n",
       "      <td>[-1.1912599, -0.8228302, -0.40031707, -1.63635...</td>\n",
       "    </tr>\n",
       "    <tr>\n",
       "      <th>1</th>\n",
       "      <td>[1249, 52, 1546, 434]</td>\n",
       "      <td>video.mp4</td>\n",
       "      <td>[-1.2779435, -0.87038517, -0.37021828, -1.7669...</td>\n",
       "    </tr>\n",
       "    <tr>\n",
       "      <th>2</th>\n",
       "      <td>[1250, 22, 1562, 430]</td>\n",
       "      <td>video.mp4</td>\n",
       "      <td>[-1.0201672, -0.60240805, -0.6928619, -1.40743...</td>\n",
       "    </tr>\n",
       "    <tr>\n",
       "      <th>3</th>\n",
       "      <td>[1299, 11, 1629, 441]</td>\n",
       "      <td>video.mp4</td>\n",
       "      <td>[-1.1640614, -0.59016705, -0.5768476, -1.29468...</td>\n",
       "    </tr>\n",
       "    <tr>\n",
       "      <th>4</th>\n",
       "      <td>[1324, 19, 1654, 440]</td>\n",
       "      <td>video.mp4</td>\n",
       "      <td>[-0.95789826, -0.18442962, -0.9021818, -1.3385...</td>\n",
       "    </tr>\n",
       "    <tr>\n",
       "      <th>5</th>\n",
       "      <td>[1367, 30, 1675, 423]</td>\n",
       "      <td>video.mp4</td>\n",
       "      <td>[-1.3983204, -0.581247, -0.74171174, -1.205270...</td>\n",
       "    </tr>\n",
       "    <tr>\n",
       "      <th>6</th>\n",
       "      <td>[1418, 32, 1747, 431]</td>\n",
       "      <td>video.mp4</td>\n",
       "      <td>[-1.4254541, -0.5838759, -0.5488362, -1.090055...</td>\n",
       "    </tr>\n",
       "    <tr>\n",
       "      <th>7</th>\n",
       "      <td>[2957, 258, 3364, 777]</td>\n",
       "      <td>video.mp4</td>\n",
       "      <td>[0.048062377, -0.5501151, -1.0377924, 0.110354...</td>\n",
       "    </tr>\n",
       "    <tr>\n",
       "      <th>8</th>\n",
       "      <td>[2996, 282, 3406, 810]</td>\n",
       "      <td>video.mp4</td>\n",
       "      <td>[0.5444144, -0.22423716, -1.5393554, 0.1495253...</td>\n",
       "    </tr>\n",
       "    <tr>\n",
       "      <th>9</th>\n",
       "      <td>[3143, 328, 3552, 874]</td>\n",
       "      <td>video.mp4</td>\n",
       "      <td>[0.010228589, -0.39886296, -1.2394885, 0.07075...</td>\n",
       "    </tr>\n",
       "  </tbody>\n",
       "</table>\n",
       "</div>"
      ],
      "text/plain": [
       "            face_location image_path  \\\n",
       "0   [1222, 50, 1525, 432]  video.mp4   \n",
       "1   [1249, 52, 1546, 434]  video.mp4   \n",
       "2   [1250, 22, 1562, 430]  video.mp4   \n",
       "3   [1299, 11, 1629, 441]  video.mp4   \n",
       "4   [1324, 19, 1654, 440]  video.mp4   \n",
       "5   [1367, 30, 1675, 423]  video.mp4   \n",
       "6   [1418, 32, 1747, 431]  video.mp4   \n",
       "7  [2957, 258, 3364, 777]  video.mp4   \n",
       "8  [2996, 282, 3406, 810]  video.mp4   \n",
       "9  [3143, 328, 3552, 874]  video.mp4   \n",
       "\n",
       "                                      face_encodings  \n",
       "0  [-1.1912599, -0.8228302, -0.40031707, -1.63635...  \n",
       "1  [-1.2779435, -0.87038517, -0.37021828, -1.7669...  \n",
       "2  [-1.0201672, -0.60240805, -0.6928619, -1.40743...  \n",
       "3  [-1.1640614, -0.59016705, -0.5768476, -1.29468...  \n",
       "4  [-0.95789826, -0.18442962, -0.9021818, -1.3385...  \n",
       "5  [-1.3983204, -0.581247, -0.74171174, -1.205270...  \n",
       "6  [-1.4254541, -0.5838759, -0.5488362, -1.090055...  \n",
       "7  [0.048062377, -0.5501151, -1.0377924, 0.110354...  \n",
       "8  [0.5444144, -0.22423716, -1.5393554, 0.1495253...  \n",
       "9  [0.010228589, -0.39886296, -1.2394885, 0.07075...  "
      ]
     },
     "execution_count": 8,
     "metadata": {},
     "output_type": "execute_result"
    }
   ],
   "source": [
    "pca_df_all_data.head(10)"
   ]
  },
  {
   "cell_type": "markdown",
   "id": "instructional-nitrogen",
   "metadata": {},
   "source": [
    "## Perform the clustering of the embedding vectors"
   ]
  },
  {
   "cell_type": "markdown",
   "id": "ordered-sharp",
   "metadata": {},
   "source": [
    "### K Means Algorithm"
   ]
  },
  {
   "cell_type": "markdown",
   "id": "editorial-wisconsin",
   "metadata": {},
   "source": [
    "####       K Means Algorithm & Elbow Rule\n",
    "\n",
    "K means is a quite simple unsupervised machine learning algorithm. It works as follows:\n",
    "\n",
    "1. We define k, which is the number of clusters\n",
    "2. The algorithm selects randomly k-points of the dataset and use them as initial centroids\n",
    "3. The algorithm calculates the distance (we have to define a metric, a proximity measure) between the k centroids\n",
    "   and all the other points of the dataset.\n",
    "4. Each point is assigned to the cluster, in which it has the smallest distance from the controid\n",
    "5. Reassignes the centroids.\n",
    "6. The algorith stops when the centroids do not change any more."
   ]
  },
  {
   "cell_type": "code",
   "execution_count": 9,
   "id": "caring-optimization",
   "metadata": {},
   "outputs": [
    {
     "data": {
      "image/png": "[encoded data removed]",
      "text/plain": [
       "<Figure size 864x432 with 1 Axes>"
      ]
     },
     "metadata": {},
     "output_type": "display_data"
    }
   ],
   "source": [
    "wcss = []\n",
    "end_index =  20\n",
    "for i in range(2, end_index):\n",
    "    kmeans = KMeans(n_clusters = i, random_state = 10)\n",
    "    kmeans.fit(pca_df.iloc[:,:-1])\n",
    "    wcss.append(kmeans.inertia_)\n",
    "\n",
    "plt.figure(figsize=(12,6))\n",
    "plt.plot(range(2, end_index), wcss, marker = 'o')\n",
    "plt.title('The Elbow Method')\n",
    "plt.xlabel('Number of clusters')\n",
    "plt.ylabel('WCSS')\n",
    "plt.show()"
   ]
  },
  {
   "cell_type": "markdown",
   "id": "abroad-behalf",
   "metadata": {},
   "source": [
    "####  Using Silhouette analysis & Kmeans algorithm to find the ideal no. of clusters for the data"
   ]
  },
  {
   "cell_type": "code",
   "execution_count": 10,
   "id": "becoming-frost",
   "metadata": {},
   "outputs": [],
   "source": [
    "def get_best_num_of_clusters(data, start_index, end_index):\n",
    "\n",
    "    print(\"\\n-------------------- get_best_num_of_clusters --------------------\\n\")\n",
    "    print(start_index,end_index)\n",
    "    range_n_clusters = range(start_index,end_index)\n",
    "    print(range_n_clusters)\n",
    "\n",
    "    sil = []\n",
    "\n",
    "    for num_of_clusters in range_n_clusters:\n",
    "\n",
    "        clusterer = KMeans(n_clusters = num_of_clusters, random_state = 10)\n",
    "        clusterer_labels = clusterer.fit_predict(data)\n",
    "        silhouette_avg = silhouette_score(data, clusterer_labels)\n",
    "        if(silhouette_avg < 0.1):\n",
    "            break\n",
    "        sil.append(silhouette_avg)\n",
    "        print(\"For n_clusters =\", num_of_clusters, \"The average silhouette_score :\", silhouette_avg)\n",
    "\n",
    "    ind = np.argmax(sil) + 2\n",
    "    print(\"best_n_clusters: \", ind)   \n",
    "    silhouette_max = np.amax(sil)\n",
    "\n",
    "    return ind, silhouette_max"
   ]
  },
  {
   "cell_type": "code",
   "execution_count": 11,
   "id": "protecting-taiwan",
   "metadata": {},
   "outputs": [],
   "source": [
    "def cluster_faces_with_kmeans(pca_df_all_data, pca_df):\n",
    "    \n",
    "    best_n_clusters, silhouette_max = get_best_num_of_clusters(pca_df, 2, 30)\n",
    "    clusterer = KMeans(n_clusters = best_n_clusters, random_state = 10)\n",
    "    clusterer_labels = clusterer.fit_predict(pca_df)\n",
    "    \n",
    "    pca_df_all_data['cluster'] = clusterer_labels\n",
    "    \n",
    "    clustring_algorithms_results.append({\"Name\": \"KMEANS\", \"silhouette_score\": silhouette_max, \"num_of_clusters\": best_n_clusters})\n",
    "    \n",
    "    return pca_df_all_data, pca_df, silhouette_max\n",
    "    "
   ]
  },
  {
   "cell_type": "code",
   "execution_count": 12,
   "id": "proper-language",
   "metadata": {
    "scrolled": true
   },
   "outputs": [
    {
     "name": "stdout",
     "output_type": "stream",
     "text": [
      "\n",
      "-------------------- get_best_num_of_clusters --------------------\n",
      "\n",
      "2 30\n",
      "range(2, 30)\n",
      "For n_clusters = 2 The average silhouette_score : 0.3223028792830674\n",
      "For n_clusters = 3 The average silhouette_score : 0.3918840984147179\n",
      "For n_clusters = 4 The average silhouette_score : 0.4989712613928893\n",
      "For n_clusters = 5 The average silhouette_score : 0.5688438883271825\n",
      "For n_clusters = 6 The average silhouette_score : 0.5469308538750911\n",
      "For n_clusters = 7 The average silhouette_score : 0.5692125226472173\n",
      "For n_clusters = 8 The average silhouette_score : 0.5462788000857761\n",
      "For n_clusters = 9 The average silhouette_score : 0.5299158351939016\n",
      "For n_clusters = 10 The average silhouette_score : 0.5434153292406267\n",
      "For n_clusters = 11 The average silhouette_score : 0.5582339818637411\n",
      "For n_clusters = 12 The average silhouette_score : 0.5764975365458453\n",
      "For n_clusters = 13 The average silhouette_score : 0.5335035672772298\n",
      "For n_clusters = 14 The average silhouette_score : 0.498136775839143\n",
      "For n_clusters = 15 The average silhouette_score : 0.4839196214326109\n",
      "For n_clusters = 16 The average silhouette_score : 0.4778644657108153\n",
      "For n_clusters = 17 The average silhouette_score : 0.4746837677839318\n",
      "For n_clusters = 18 The average silhouette_score : 0.4915415129656202\n",
      "For n_clusters = 19 The average silhouette_score : 0.5049536401599218\n",
      "For n_clusters = 20 The average silhouette_score : 0.4483710612344824\n",
      "For n_clusters = 21 The average silhouette_score : 0.4709668649166296\n",
      "For n_clusters = 22 The average silhouette_score : 0.48075566626193544\n",
      "For n_clusters = 23 The average silhouette_score : 0.47265249201642756\n",
      "For n_clusters = 24 The average silhouette_score : 0.4116293417972447\n",
      "For n_clusters = 25 The average silhouette_score : 0.411134486141693\n",
      "For n_clusters = 26 The average silhouette_score : 0.396412845612478\n",
      "For n_clusters = 27 The average silhouette_score : 0.38229538364300597\n",
      "For n_clusters = 28 The average silhouette_score : 0.37706877304577063\n",
      "For n_clusters = 29 The average silhouette_score : 0.37877695037104847\n",
      "best_n_clusters:  12\n"
     ]
    }
   ],
   "source": [
    "pca_df_all_data, pca_df, kmeans_sil_score = cluster_faces_with_kmeans(pca_df_all_data, pca_df)"
   ]
  },
  {
   "cell_type": "code",
   "execution_count": 13,
   "id": "satellite-imagination",
   "metadata": {},
   "outputs": [
    {
     "data": {
      "text/html": [
       "<div>\n",
       "<style scoped>\n",
       "    .dataframe tbody tr th:only-of-type {\n",
       "        vertical-align: middle;\n",
       "    }\n",
       "\n",
       "    .dataframe tbody tr th {\n",
       "        vertical-align: top;\n",
       "    }\n",
       "\n",
       "    .dataframe thead th {\n",
       "        text-align: right;\n",
       "    }\n",
       "</style>\n",
       "<table border=\"1\" class=\"dataframe\">\n",
       "  <thead>\n",
       "    <tr style=\"text-align: right;\">\n",
       "      <th></th>\n",
       "      <th>face_location</th>\n",
       "      <th>image_path</th>\n",
       "      <th>face_encodings</th>\n",
       "      <th>cluster</th>\n",
       "    </tr>\n",
       "  </thead>\n",
       "  <tbody>\n",
       "    <tr>\n",
       "      <th>0</th>\n",
       "      <td>[1222, 50, 1525, 432]</td>\n",
       "      <td>video.mp4</td>\n",
       "      <td>[-1.1912599, -0.8228302, -0.40031707, -1.63635...</td>\n",
       "      <td>3</td>\n",
       "    </tr>\n",
       "    <tr>\n",
       "      <th>1</th>\n",
       "      <td>[1249, 52, 1546, 434]</td>\n",
       "      <td>video.mp4</td>\n",
       "      <td>[-1.2779435, -0.87038517, -0.37021828, -1.7669...</td>\n",
       "      <td>3</td>\n",
       "    </tr>\n",
       "    <tr>\n",
       "      <th>2</th>\n",
       "      <td>[1250, 22, 1562, 430]</td>\n",
       "      <td>video.mp4</td>\n",
       "      <td>[-1.0201672, -0.60240805, -0.6928619, -1.40743...</td>\n",
       "      <td>3</td>\n",
       "    </tr>\n",
       "    <tr>\n",
       "      <th>3</th>\n",
       "      <td>[1299, 11, 1629, 441]</td>\n",
       "      <td>video.mp4</td>\n",
       "      <td>[-1.1640614, -0.59016705, -0.5768476, -1.29468...</td>\n",
       "      <td>3</td>\n",
       "    </tr>\n",
       "    <tr>\n",
       "      <th>4</th>\n",
       "      <td>[1324, 19, 1654, 440]</td>\n",
       "      <td>video.mp4</td>\n",
       "      <td>[-0.95789826, -0.18442962, -0.9021818, -1.3385...</td>\n",
       "      <td>3</td>\n",
       "    </tr>\n",
       "  </tbody>\n",
       "</table>\n",
       "</div>"
      ],
      "text/plain": [
       "           face_location image_path  \\\n",
       "0  [1222, 50, 1525, 432]  video.mp4   \n",
       "1  [1249, 52, 1546, 434]  video.mp4   \n",
       "2  [1250, 22, 1562, 430]  video.mp4   \n",
       "3  [1299, 11, 1629, 441]  video.mp4   \n",
       "4  [1324, 19, 1654, 440]  video.mp4   \n",
       "\n",
       "                                      face_encodings  cluster  \n",
       "0  [-1.1912599, -0.8228302, -0.40031707, -1.63635...        3  \n",
       "1  [-1.2779435, -0.87038517, -0.37021828, -1.7669...        3  \n",
       "2  [-1.0201672, -0.60240805, -0.6928619, -1.40743...        3  \n",
       "3  [-1.1640614, -0.59016705, -0.5768476, -1.29468...        3  \n",
       "4  [-0.95789826, -0.18442962, -0.9021818, -1.3385...        3  "
      ]
     },
     "execution_count": 13,
     "metadata": {},
     "output_type": "execute_result"
    }
   ],
   "source": [
    "pca_df_all_data.head()"
   ]
  },
  {
   "cell_type": "code",
   "execution_count": 14,
   "id": "removed-progress",
   "metadata": {},
   "outputs": [
    {
     "data": {
      "image/png": "[encoded data removed]",
      "text/plain": [
       "<Figure size 864x432 with 1 Axes>"
      ]
     },
     "metadata": {},
     "output_type": "display_data"
    }
   ],
   "source": [
    "plot_clusters(pca_df, pca_df_all_data['cluster'], \"KMEANS\")"
   ]
  },
  {
   "cell_type": "markdown",
   "id": "entire-phone",
   "metadata": {},
   "source": [
    "### DBSCAN Algorithm"
   ]
  },
  {
   "cell_type": "markdown",
   "id": "excessive-enterprise",
   "metadata": {},
   "source": [
    "In order to understand how DBSCAN works, we have to define the following:\n",
    "\n",
    "* **minPts**: minimun number of points (neighbors) that must exist within a circe of\n",
    "  radius eps and center a specific point in order to classify it as core point.\n",
    "\n",
    "* **eps**: defines the radius of neighborhood around a point x.\n",
    "\n",
    "We classify all the points of a dataset as:\n",
    "\n",
    "1. **core point**: if there are at least **MinPts** points within a circle of radius **eps**.\n",
    "2. **border point**: if it contains at least 1 core point in its neighbor.\n",
    "3. **noise point**: if it is neither a core point nor a border point."
   ]
  },
  {
   "cell_type": "markdown",
   "id": "coupled-convergence",
   "metadata": {},
   "source": [
    "##### DBSCAN Algorithm (simplified)\n",
    "1. Scan the database.\n",
    "2. Assign each point to one of the following categories: core point, border point or noise.\n",
    "3. Reject all the noise points.\n",
    "4. Connect all the core points within a distance ε and create a separate cluster.\n",
    "5. Assign each border point to the cluster which is reachable from a core point."
   ]
  },
  {
   "cell_type": "markdown",
   "id": "grateful-product",
   "metadata": {},
   "source": [
    "#### Determine Optimal Epsilon And MinPts Values"
   ]
  },
  {
   "cell_type": "markdown",
   "id": "shared-symbol",
   "metadata": {},
   "source": [
    "**Approach #1 - Nearest Neighbors Approach - Using Euclidean distance method to find optimum epsilon distance(eps)**"
   ]
  },
  {
   "cell_type": "code",
   "execution_count": 15,
   "id": "direct-exploration",
   "metadata": {},
   "outputs": [
    {
     "data": {
      "image/png": "[encoded data removed]",
      "text/plain": [
       "<Figure size 864x432 with 1 Axes>"
      ]
     },
     "metadata": {},
     "output_type": "display_data"
    }
   ],
   "source": [
    "from sklearn.neighbors import NearestNeighbors\n",
    "neigh = NearestNeighbors(n_neighbors=best_pca_dimensions * 2)\n",
    "nbrs = neigh.fit(pca_df)\n",
    "distances, indices = nbrs.kneighbors(pca_df)\n",
    "distances = np.sort(distances[:,-1], axis = 0)\n",
    "plt.figure(figsize=(12,6))\n",
    "plt.plot(distances)\n",
    "plt.xlabel('Number of points')\n",
    "plt.ylabel('Distance')\n",
    "plt.show()"
   ]
  },
  {
   "cell_type": "markdown",
   "id": "commercial-regular",
   "metadata": {},
   "source": [
    "**Approach #2 - Iteration Approach - Silhouette_score**"
   ]
  },
  {
   "cell_type": "code",
   "execution_count": 16,
   "id": "specified-nomination",
   "metadata": {},
   "outputs": [],
   "source": [
    "def plot_dbscan_parameters(all_dbscan_results_df):\n",
    "    \n",
    "    top = all_dbscan_results_df.nlargest(10, 'silhouette_score')\n",
    "    \n",
    "    fig, axs = plt.subplots(2, 2, figsize=(20,15))   \n",
    "    \n",
    "    x_data = [\"({} , {})\".format(eps,minPts) for eps,minPts in zip(top.minimum_points, top.epsilon_values)]\n",
    "    axs[0,0].scatter(x_data, top.silhouette_score, color=\"#246EB9\")\n",
    "    axs[0,0].set_title(\"top 10 - (eps,minPts) vs silhouette_score\")\n",
    "    axs[0,0].set_ylim(0, 0.7)\n",
    "    \n",
    "    axs[0,1].bar(all_dbscan_results_df.minimum_points, all_dbscan_results_df.silhouette_score, color=\"#246EB9\")\n",
    "    axs[0,1].set_title(\"minimum_points vs silhouette_score\")\n",
    "    axs[0,1].set_ylim(0, 0.7)\n",
    "    axs[0,1].set_xticks(np.arange(all_dbscan_results_df.minimum_points.min(), all_dbscan_results_df.minimum_points.max(), 1))\n",
    "    \n",
    "#     plt.xticks(np.arange(all_dbscan_results_df.minimum_points.min(), all_dbscan_results_df.minimum_points.max(), 1))\n",
    "            \n",
    "    axs[1,0].bar(all_dbscan_results_df.epsilon_values, all_dbscan_results_df.silhouette_score, color=\"#246EB9\", width=0.3)\n",
    "    axs[1,0].set_title(\"epsilon_values vs silhouette_score\")\n",
    "    axs[1,0].set_ylim(0, 0.7)\n",
    "    axs[1,0].set_xticks(np.arange(all_dbscan_results_df.epsilon_values.min(), all_dbscan_results_df.epsilon_values.max(), 0.5))\n",
    "    \n",
    "      \n",
    "    axs[1,1].bar(all_dbscan_results_df.no_of_clusters, all_dbscan_results_df.silhouette_score, color=\"#246EB9\")\n",
    "    axs[1,1].set_title(\"no_of_clusters vs silhouette_score\")\n",
    "    axs[1,1].set_ylim(0, 0.7)\n",
    "    axs[1,1].set_xticks(np.arange(all_dbscan_results_df.no_of_clusters.min(), all_dbscan_results_df.no_of_clusters.max(), 1))\n",
    "\n",
    "def get_optimal_parameters(data, eps_start_index, eps_end_index, eps_step, min_pts_start_index, min_pts_end_index):\n",
    "      \n",
    "    no_of_clusters = []\n",
    "    sil_scores = []\n",
    "    eps_values = []\n",
    "    min_pts_values = []\n",
    "    \n",
    "    for eps in np.arange(eps_start_index,eps_end_index, eps_step):\n",
    "        for min_pts in np.arange(min_pts_start_index, min_pts_end_index):\n",
    "            \n",
    "            labels, sil_score = start_dbscan(data,eps=eps, min_samples=min_pts)\n",
    "                \n",
    "            if sil_score is not None:\n",
    "                eps_values.append(eps)\n",
    "                min_pts_values.append(min_pts)\n",
    "                no_of_clusters.append(len(np.unique(labels)))\n",
    "                sil_scores.append(sil_score)\n",
    "        \n",
    "    all_dbscan_results = list(zip(no_of_clusters, sil_scores, eps_values, min_pts_values))\n",
    "    all_dbscan_results_df = pd.DataFrame(all_dbscan_results, columns=['no_of_clusters', 'silhouette_score', 'epsilon_values', 'minimum_points'])\n",
    "    \n",
    "    plot_dbscan_parameters(all_dbscan_results_df)\n",
    "    \n",
    "    maxValueIndex = np.nanmax(all_dbscan_results_df.silhouette_score.astype(\"float\").idxmax())\n",
    "    \n",
    "    best_parameters = all_dbscan_results_df.iloc[maxValueIndex]\n",
    "    \n",
    "    return best_parameters.epsilon_values, best_parameters.minimum_points"
   ]
  },
  {
   "cell_type": "code",
   "execution_count": 17,
   "id": "considered-luther",
   "metadata": {},
   "outputs": [],
   "source": [
    "def start_dbscan(data, eps = 0.5, min_samples = 5):\n",
    "\n",
    "    # print(eps, min_samples)\n",
    "\n",
    "    # creating DBSCAN object for clustering the encodings with the metric \"euclidean\"\n",
    "    dbscan_model = DBSCAN( eps = eps, min_samples = min_samples, n_jobs = 2, metric = \"euclidean\")\n",
    "\n",
    "    # train the model\n",
    "    dbscan_model.fit(data)\n",
    "\n",
    "    labels = dbscan_model.labels_\n",
    "\n",
    "    # determine the total number of unique faces found in the dataset\n",
    "    # clt.labels_ contains the label ID for all faces in our dataset (i.e., which cluster each face belongs to).\n",
    "    # To find the unique faces/unique label IDs, used NumPy’s unique function.\n",
    "    # The result is a list of unique labelIDs\n",
    "    label_ids = np.unique(dbscan_model.labels_)\n",
    "\n",
    "    # we count the numUniqueFaces . There could potentially be a value of -1 in labelIDs — this value corresponds\n",
    "    # to the “outlier” class where a 128-d embedding was too far away from any other clusters to be added to it.\n",
    "    # “outliers” could either be worth examining or simply discarding based on the application of face clustering.\n",
    "    num_unique_faces = len(np.where(label_ids > -1)[0])\n",
    "\n",
    "    # print(\"[INFO] # unique faces: {}\".format(num_unique_faces))\n",
    "\n",
    "    n_noise_ = list(dbscan_model.labels_).count(-1)\n",
    "\n",
    "    # print('Estimated number of noise points: %d' % n_noise_)\n",
    "\n",
    "    if num_unique_faces > 1:\n",
    "        sil_score = silhouette_score(data, labels)\n",
    "        # print(\"Silhouette Coefficient: %0.3f\" % sil_score)\n",
    "        return labels, sil_score\n",
    "\n",
    "    return labels , None"
   ]
  },
  {
   "cell_type": "code",
   "execution_count": 18,
   "id": "intermediate-romantic",
   "metadata": {},
   "outputs": [],
   "source": [
    "def cluster_faces_with_db_scan(pca_df_all_data, pca_df, best_pca_dimensions):\n",
    "    \n",
    "    eps_start_index = 1\n",
    "    eps_end_index = 20\n",
    "    eps_step = 0.5\n",
    "    min_pts_start_index = 2\n",
    "    min_pts_end_index = best_pca_dimensions * 2\n",
    "    \n",
    "    best_eps, best_min_samples = get_optimal_parameters(pca_df, eps_start_index, eps_end_index, eps_step, min_pts_start_index, min_pts_end_index)\n",
    "    \n",
    "    print(\"best_min_samples\", best_min_samples, \"best_eps\", best_eps)\n",
    "    \n",
    "    # print(\"\\n------------------------- start DBSCAN ------------------------------\\n\")\n",
    "\n",
    "    labels, sil_score = start_dbscan(pca_df, eps = best_eps, min_samples = best_min_samples)\n",
    "    pca_df_all_data['cluster'] = labels\n",
    "    \n",
    "    clustring_algorithms_results.append({\"Name\": \"DBSCAN\", \"silhouette_score\": sil_score, \"num_of_clusters\": len(np.unique(labels))})\n",
    "\n",
    "    # print(\"\\n------------------------- finish DBSCAN ------------------------------\\n\")\n",
    "\n",
    "    return pca_df_all_data, pca_df,sil_score"
   ]
  },
  {
   "cell_type": "code",
   "execution_count": 19,
   "id": "according-acrobat",
   "metadata": {
    "scrolled": false
   },
   "outputs": [
    {
     "name": "stdout",
     "output_type": "stream",
     "text": [
      "best_min_samples 2.0 best_eps 6.0\n"
     ]
    },
    {
     "data": {
      "image/png": "[encoded data removed]",
      "text/plain": [
       "<Figure size 1440x1080 with 4 Axes>"
      ]
     },
     "metadata": {},
     "output_type": "display_data"
    }
   ],
   "source": [
    "pca_df_all_data, pca_df, dbscan_sil_score = cluster_faces_with_db_scan(pca_df_all_data, pca_df, best_pca_dimensions)"
   ]
  },
  {
   "cell_type": "code",
   "execution_count": 20,
   "id": "portuguese-editing",
   "metadata": {},
   "outputs": [
    {
     "data": {
      "text/html": [
       "<div>\n",
       "<style scoped>\n",
       "    .dataframe tbody tr th:only-of-type {\n",
       "        vertical-align: middle;\n",
       "    }\n",
       "\n",
       "    .dataframe tbody tr th {\n",
       "        vertical-align: top;\n",
       "    }\n",
       "\n",
       "    .dataframe thead th {\n",
       "        text-align: right;\n",
       "    }\n",
       "</style>\n",
       "<table border=\"1\" class=\"dataframe\">\n",
       "  <thead>\n",
       "    <tr style=\"text-align: right;\">\n",
       "      <th></th>\n",
       "      <th>face_location</th>\n",
       "      <th>image_path</th>\n",
       "      <th>face_encodings</th>\n",
       "      <th>cluster</th>\n",
       "    </tr>\n",
       "  </thead>\n",
       "  <tbody>\n",
       "    <tr>\n",
       "      <th>0</th>\n",
       "      <td>[1222, 50, 1525, 432]</td>\n",
       "      <td>video.mp4</td>\n",
       "      <td>[-1.1912599, -0.8228302, -0.40031707, -1.63635...</td>\n",
       "      <td>0</td>\n",
       "    </tr>\n",
       "    <tr>\n",
       "      <th>1</th>\n",
       "      <td>[1249, 52, 1546, 434]</td>\n",
       "      <td>video.mp4</td>\n",
       "      <td>[-1.2779435, -0.87038517, -0.37021828, -1.7669...</td>\n",
       "      <td>0</td>\n",
       "    </tr>\n",
       "    <tr>\n",
       "      <th>2</th>\n",
       "      <td>[1250, 22, 1562, 430]</td>\n",
       "      <td>video.mp4</td>\n",
       "      <td>[-1.0201672, -0.60240805, -0.6928619, -1.40743...</td>\n",
       "      <td>0</td>\n",
       "    </tr>\n",
       "    <tr>\n",
       "      <th>3</th>\n",
       "      <td>[1299, 11, 1629, 441]</td>\n",
       "      <td>video.mp4</td>\n",
       "      <td>[-1.1640614, -0.59016705, -0.5768476, -1.29468...</td>\n",
       "      <td>0</td>\n",
       "    </tr>\n",
       "    <tr>\n",
       "      <th>4</th>\n",
       "      <td>[1324, 19, 1654, 440]</td>\n",
       "      <td>video.mp4</td>\n",
       "      <td>[-0.95789826, -0.18442962, -0.9021818, -1.3385...</td>\n",
       "      <td>0</td>\n",
       "    </tr>\n",
       "    <tr>\n",
       "      <th>...</th>\n",
       "      <td>...</td>\n",
       "      <td>...</td>\n",
       "      <td>...</td>\n",
       "      <td>...</td>\n",
       "    </tr>\n",
       "    <tr>\n",
       "      <th>295</th>\n",
       "      <td>[1533, 452, 1830, 870]</td>\n",
       "      <td>video.mp4</td>\n",
       "      <td>[-1.4184235, -0.6505166, -0.9390658, -0.624670...</td>\n",
       "      <td>0</td>\n",
       "    </tr>\n",
       "    <tr>\n",
       "      <th>296</th>\n",
       "      <td>[737, 590, 985, 918]</td>\n",
       "      <td>video.mp4</td>\n",
       "      <td>[-1.1496332, -0.26877365, -0.20659196, -0.3247...</td>\n",
       "      <td>5</td>\n",
       "    </tr>\n",
       "    <tr>\n",
       "      <th>297</th>\n",
       "      <td>[1537, 469, 1833, 889]</td>\n",
       "      <td>video.mp4</td>\n",
       "      <td>[-1.4349687, -0.41537136, -1.2884346, -0.72868...</td>\n",
       "      <td>0</td>\n",
       "    </tr>\n",
       "    <tr>\n",
       "      <th>298</th>\n",
       "      <td>[779, 621, 1003, 923]</td>\n",
       "      <td>video.mp4</td>\n",
       "      <td>[-1.1718473, -0.62041783, -0.26983872, -0.1617...</td>\n",
       "      <td>5</td>\n",
       "    </tr>\n",
       "    <tr>\n",
       "      <th>299</th>\n",
       "      <td>[1546, 474, 1844, 901]</td>\n",
       "      <td>video.mp4</td>\n",
       "      <td>[-1.4955709, -0.22267507, -0.7278122, -0.97136...</td>\n",
       "      <td>0</td>\n",
       "    </tr>\n",
       "  </tbody>\n",
       "</table>\n",
       "<p>300 rows × 4 columns</p>\n",
       "</div>"
      ],
      "text/plain": [
       "              face_location image_path  \\\n",
       "0     [1222, 50, 1525, 432]  video.mp4   \n",
       "1     [1249, 52, 1546, 434]  video.mp4   \n",
       "2     [1250, 22, 1562, 430]  video.mp4   \n",
       "3     [1299, 11, 1629, 441]  video.mp4   \n",
       "4     [1324, 19, 1654, 440]  video.mp4   \n",
       "..                      ...        ...   \n",
       "295  [1533, 452, 1830, 870]  video.mp4   \n",
       "296    [737, 590, 985, 918]  video.mp4   \n",
       "297  [1537, 469, 1833, 889]  video.mp4   \n",
       "298   [779, 621, 1003, 923]  video.mp4   \n",
       "299  [1546, 474, 1844, 901]  video.mp4   \n",
       "\n",
       "                                        face_encodings  cluster  \n",
       "0    [-1.1912599, -0.8228302, -0.40031707, -1.63635...        0  \n",
       "1    [-1.2779435, -0.87038517, -0.37021828, -1.7669...        0  \n",
       "2    [-1.0201672, -0.60240805, -0.6928619, -1.40743...        0  \n",
       "3    [-1.1640614, -0.59016705, -0.5768476, -1.29468...        0  \n",
       "4    [-0.95789826, -0.18442962, -0.9021818, -1.3385...        0  \n",
       "..                                                 ...      ...  \n",
       "295  [-1.4184235, -0.6505166, -0.9390658, -0.624670...        0  \n",
       "296  [-1.1496332, -0.26877365, -0.20659196, -0.3247...        5  \n",
       "297  [-1.4349687, -0.41537136, -1.2884346, -0.72868...        0  \n",
       "298  [-1.1718473, -0.62041783, -0.26983872, -0.1617...        5  \n",
       "299  [-1.4955709, -0.22267507, -0.7278122, -0.97136...        0  \n",
       "\n",
       "[300 rows x 4 columns]"
      ]
     },
     "execution_count": 20,
     "metadata": {},
     "output_type": "execute_result"
    }
   ],
   "source": [
    "pca_df_all_data"
   ]
  },
  {
   "cell_type": "code",
   "execution_count": 21,
   "id": "prescription-bridges",
   "metadata": {
    "scrolled": false
   },
   "outputs": [
    {
     "data": {
      "image/png": "[encoded data removed]",
      "text/plain": [
       "<Figure size 864x432 with 1 Axes>"
      ]
     },
     "metadata": {},
     "output_type": "display_data"
    }
   ],
   "source": [
    "plot_clusters(pca_df, pca_df_all_data['cluster'], \"DBSCAN\")"
   ]
  },
  {
   "cell_type": "code",
   "execution_count": 22,
   "id": "optical-weekly",
   "metadata": {},
   "outputs": [
    {
     "name": "stdout",
     "output_type": "stream",
     "text": [
      "DBSCAN silhouette_score : 0.5893593940763328\n",
      "KMEANS silhouette_score : 0.5764975365458453\n"
     ]
    }
   ],
   "source": [
    "print(\"DBSCAN silhouette_score :\", dbscan_sil_score)\n",
    "print(\"KMEANS silhouette_score :\", kmeans_sil_score)"
   ]
  },
  {
   "cell_type": "markdown",
   "id": "conventional-belarus",
   "metadata": {},
   "source": [
    "### MeanShift clustering"
   ]
  },
  {
   "cell_type": "code",
   "execution_count": 23,
   "id": "extraordinary-shame",
   "metadata": {},
   "outputs": [],
   "source": [
    "from sklearn.cluster import estimate_bandwidth\n",
    "def cluster_faces_with_meanshift(pca_df_all_data, pca_df):\n",
    "    \n",
    "    est_bandwidth = estimate_bandwidth(pca_df,quantile=.15,n_samples=10000)\n",
    "    meanShift = MeanShift(bandwidth= est_bandwidth, bin_seeding=True)\n",
    "    clusterer_labels = meanShift.fit_predict(pca_df)\n",
    "    pca_df_all_data['cluster'] = clusterer_labels\n",
    "    \n",
    "    labels_unique=np.unique(clusterer_labels)\n",
    "    n_clusters_=len(labels_unique)\n",
    "    \n",
    "    silh_score = 0\n",
    "    \n",
    "    if n_clusters_ > 1:\n",
    "         silh_score = silhouette_score(pca_df, clusterer_labels)\n",
    "\n",
    "    print(\"Number of estimated clusters : %d\" % n_clusters_)\n",
    "    \n",
    "    clustring_algorithms_results.append({\"Name\": \"MEANSHIFT\", \"silhouette_score\": silh_score, \"num_of_clusters\": n_clusters_})\n",
    "    \n",
    "    return pca_df_all_data, pca_df, silh_score"
   ]
  },
  {
   "cell_type": "code",
   "execution_count": 24,
   "id": "excessive-comparison",
   "metadata": {},
   "outputs": [
    {
     "name": "stdout",
     "output_type": "stream",
     "text": [
      "Number of estimated clusters : 6\n"
     ]
    }
   ],
   "source": [
    "pca_df_all_data, pca_df, meanshift_sil_score = cluster_faces_with_meanshift(pca_df_all_data, pca_df)"
   ]
  },
  {
   "cell_type": "code",
   "execution_count": 25,
   "id": "greater-layout",
   "metadata": {},
   "outputs": [
    {
     "data": {
      "image/png": "[encoded data removed]",
      "text/plain": [
       "<Figure size 864x432 with 1 Axes>"
      ]
     },
     "metadata": {},
     "output_type": "display_data"
    }
   ],
   "source": [
    "plot_clusters(pca_df, pca_df_all_data['cluster'], \"MeanShift\")"
   ]
  },
  {
   "cell_type": "code",
   "execution_count": 26,
   "id": "academic-supply",
   "metadata": {},
   "outputs": [
    {
     "name": "stdout",
     "output_type": "stream",
     "text": [
      "DBSCAN silhouette_score : 0.5893593940763328\n",
      "KMEANS silhouette_score : 0.5764975365458453\n",
      "MEANSHIFT silhouette_score : 0.5893593940763328\n"
     ]
    }
   ],
   "source": [
    "print(\"DBSCAN silhouette_score :\", dbscan_sil_score)\n",
    "print(\"KMEANS silhouette_score :\", kmeans_sil_score)\n",
    "print(\"MEANSHIFT silhouette_score :\", meanshift_sil_score)"
   ]
  },
  {
   "cell_type": "markdown",
   "id": "scheduled-resident",
   "metadata": {},
   "source": [
    "### Hierarchical Clustering"
   ]
  },
  {
   "cell_type": "code",
   "execution_count": 27,
   "id": "obvious-peace",
   "metadata": {},
   "outputs": [
    {
     "data": {
      "image/png": "[encoded data removed]",
      "text/plain": [
       "<Figure size 864x432 with 1 Axes>"
      ]
     },
     "metadata": {},
     "output_type": "display_data"
    }
   ],
   "source": [
    "mergings = sch.linkage(pca_df, method = 'ward')\n",
    "plt.figure(figsize=(12,6))\n",
    "sch.dendrogram(mergings)\n",
    "plt.title('Dendrogram')\n",
    "plt.xlabel('Faces')\n",
    "plt.ylabel('Euclidean Distances')\n",
    "plt.show()\n",
    "\n",
    "# By looking at this dendrogram, it can be seen that the optimal number of cluster is 5.\n",
    "cluster = AgglomerativeClustering(n_clusters=5, affinity='euclidean', linkage='ward')\n",
    "clusterer_labels = cluster.fit_predict(pca_df)\n",
    "pca_df_all_data['cluster'] = clusterer_labels\n",
    "hierarchical_sil_score = silhouette_score(pca_df, clusterer_labels, metric=\"euclidean\")\n",
    "clustring_algorithms_results.append({\"Name\": \"HIERARCHICAL\", \"silhouette_score\": hierarchical_sil_score, \"num_of_clusters\": 5})"
   ]
  },
  {
   "cell_type": "code",
   "execution_count": 28,
   "id": "federal-buyer",
   "metadata": {},
   "outputs": [
    {
     "data": {
      "image/png": "[encoded data removed]",
      "text/plain": [
       "<Figure size 864x432 with 1 Axes>"
      ]
     },
     "metadata": {},
     "output_type": "display_data"
    }
   ],
   "source": [
    "plot_clusters(pca_df, pca_df_all_data['cluster'], \"Hierarchical\")"
   ]
  },
  {
   "cell_type": "code",
   "execution_count": 29,
   "id": "beneficial-workstation",
   "metadata": {},
   "outputs": [
    {
     "name": "stdout",
     "output_type": "stream",
     "text": [
      "DBSCAN silhouette_score : 0.5893593940763328\n",
      "KMEANS silhouette_score : 0.5764975365458453\n",
      "MEANSHIFT silhouette_score : 0.5893593940763328\n",
      "HIERARCHICAL silhouette_score : 0.5688438883271825\n"
     ]
    }
   ],
   "source": [
    "print(\"DBSCAN silhouette_score :\", dbscan_sil_score)\n",
    "print(\"KMEANS silhouette_score :\", kmeans_sil_score)\n",
    "print(\"MEANSHIFT silhouette_score :\", meanshift_sil_score)\n",
    "print(\"HIERARCHICAL silhouette_score :\", hierarchical_sil_score)"
   ]
  },
  {
   "cell_type": "markdown",
   "id": "connected-directory",
   "metadata": {},
   "source": [
    "### GMM Clustering"
   ]
  },
  {
   "cell_type": "code",
   "execution_count": 30,
   "id": "quantitative-office",
   "metadata": {},
   "outputs": [],
   "source": [
    "from sklearn.mixture import GaussianMixture\n",
    "\n",
    "def get_best_k_paramerter(data, start_index, end_index):\n",
    "\n",
    "    k_range = range(start_index, end_index) \n",
    "\n",
    "    pca_no_of_clusters = []\n",
    "    pca_sil_score = []\n",
    "    pca_k_values = []\n",
    "\n",
    "    for k in k_range:\n",
    "        \n",
    "        # Apply your clustering algorithm of choice to the data\n",
    "        clusterer = GaussianMixture(n_components=k, random_state=10)\n",
    "        labels = clusterer.fit_predict(data)\n",
    "        pca_k_values.append(k)\n",
    "        pca_no_of_clusters.append(len(np.unique(labels)))\n",
    "        pca_sil_score.append(silhouette_score(data,labels))\n",
    "\n",
    "    pca_k_array = list(zip(pca_no_of_clusters, pca_sil_score, pca_k_values))\n",
    "    pca_k_df = pd.DataFrame(pca_k_array, columns=['no_of_clusters', 'silhouette_score', 'k_values'])\n",
    "    \n",
    "    plt.figure(figsize=(12,6))\n",
    "    sns.lineplot(data=pca_k_df, x=\"k_values\", y=\"silhouette_score\")\n",
    "\n",
    "    maxValueIndex = np.nanmax(pca_k_df.silhouette_score.idxmax())\n",
    "    best_k = pca_k_df.iloc[maxValueIndex].k_values\n",
    "    return int(best_k), pca_k_df.iloc[maxValueIndex].silhouette_score\n",
    "\n",
    "def cluster_faces_with_GMM(pca_df_all_data, pca_df):\n",
    "    \n",
    "    k, silhouette_score_max = get_best_k_paramerter(pca_df, 2, best_pca_dimensions * 2)\n",
    "    \n",
    "    clusterer = GaussianMixture(n_components=k, random_state=10)\n",
    "    clusterer_labels = clusterer.fit_predict(pca_df)\n",
    "    \n",
    "    pca_df_all_data['cluster'] = clusterer_labels\n",
    "    \n",
    "    print(silhouette_score_max, k)\n",
    "    \n",
    "    clustring_algorithms_results.append({\"Name\": \"GMM\", \"silhouette_score\": silhouette_score_max, \"num_of_clusters\": k})\n",
    "\n",
    "    return pca_df_all_data, pca_df, silhouette_score_max"
   ]
  },
  {
   "cell_type": "code",
   "execution_count": 31,
   "id": "closing-korean",
   "metadata": {},
   "outputs": [
    {
     "name": "stdout",
     "output_type": "stream",
     "text": [
      "0.5688438883271825 5\n"
     ]
    },
    {
     "data": {
      "image/png": "[encoded data removed]",
      "text/plain": [
       "<Figure size 864x432 with 1 Axes>"
      ]
     },
     "metadata": {},
     "output_type": "display_data"
    }
   ],
   "source": [
    "pca_df_all_data, pca_df, gmm_sil_score = cluster_faces_with_GMM(pca_df_all_data, pca_df)"
   ]
  },
  {
   "cell_type": "code",
   "execution_count": 32,
   "id": "breathing-limit",
   "metadata": {},
   "outputs": [
    {
     "data": {
      "image/png": "[encoded data removed]",
      "text/plain": [
       "<Figure size 864x432 with 1 Axes>"
      ]
     },
     "metadata": {},
     "output_type": "display_data"
    }
   ],
   "source": [
    "plot_clusters(pca_df, pca_df_all_data['cluster'], \"GMM\")"
   ]
  },
  {
   "cell_type": "markdown",
   "id": "comic-slovenia",
   "metadata": {},
   "source": [
    "### Comparision of Results"
   ]
  },
  {
   "cell_type": "code",
   "execution_count": 33,
   "id": "arctic-purple",
   "metadata": {},
   "outputs": [
    {
     "name": "stdout",
     "output_type": "stream",
     "text": [
      "DBSCAN silhouette_score : 0.5893593940763328\n",
      "KMEANS silhouette_score : 0.5764975365458453\n",
      "MEANSHIFT silhouette_score : 0.5893593940763328\n",
      "HIERARCHICAL silhouette_score : 0.5688438883271825\n",
      "GMM silhouette_score : 0.5688438883271825\n"
     ]
    }
   ],
   "source": [
    "print(\"DBSCAN silhouette_score :\", dbscan_sil_score)\n",
    "print(\"KMEANS silhouette_score :\", kmeans_sil_score)\n",
    "print(\"MEANSHIFT silhouette_score :\", meanshift_sil_score)\n",
    "print(\"HIERARCHICAL silhouette_score :\", hierarchical_sil_score)\n",
    "print(\"GMM silhouette_score :\", gmm_sil_score)"
   ]
  },
  {
   "cell_type": "code",
   "execution_count": 34,
   "id": "still-numbers",
   "metadata": {},
   "outputs": [],
   "source": [
    "clustring_algorithms_results = pd.DataFrame(clustring_algorithms_results)"
   ]
  },
  {
   "cell_type": "code",
   "execution_count": 35,
   "id": "critical-wrapping",
   "metadata": {},
   "outputs": [
    {
     "data": {
      "text/html": [
       "<div>\n",
       "<style scoped>\n",
       "    .dataframe tbody tr th:only-of-type {\n",
       "        vertical-align: middle;\n",
       "    }\n",
       "\n",
       "    .dataframe tbody tr th {\n",
       "        vertical-align: top;\n",
       "    }\n",
       "\n",
       "    .dataframe thead th {\n",
       "        text-align: right;\n",
       "    }\n",
       "</style>\n",
       "<table border=\"1\" class=\"dataframe\">\n",
       "  <thead>\n",
       "    <tr style=\"text-align: right;\">\n",
       "      <th></th>\n",
       "      <th>Name</th>\n",
       "      <th>silhouette_score</th>\n",
       "      <th>num_of_clusters</th>\n",
       "    </tr>\n",
       "  </thead>\n",
       "  <tbody>\n",
       "    <tr>\n",
       "      <th>0</th>\n",
       "      <td>KMEANS</td>\n",
       "      <td>0.576498</td>\n",
       "      <td>12</td>\n",
       "    </tr>\n",
       "    <tr>\n",
       "      <th>1</th>\n",
       "      <td>DBSCAN</td>\n",
       "      <td>0.589359</td>\n",
       "      <td>6</td>\n",
       "    </tr>\n",
       "    <tr>\n",
       "      <th>2</th>\n",
       "      <td>MEANSHIFT</td>\n",
       "      <td>0.589359</td>\n",
       "      <td>6</td>\n",
       "    </tr>\n",
       "    <tr>\n",
       "      <th>3</th>\n",
       "      <td>HIERARCHICAL</td>\n",
       "      <td>0.568844</td>\n",
       "      <td>5</td>\n",
       "    </tr>\n",
       "    <tr>\n",
       "      <th>4</th>\n",
       "      <td>GMM</td>\n",
       "      <td>0.568844</td>\n",
       "      <td>5</td>\n",
       "    </tr>\n",
       "  </tbody>\n",
       "</table>\n",
       "</div>"
      ],
      "text/plain": [
       "           Name  silhouette_score  num_of_clusters\n",
       "0        KMEANS          0.576498               12\n",
       "1        DBSCAN          0.589359                6\n",
       "2     MEANSHIFT          0.589359                6\n",
       "3  HIERARCHICAL          0.568844                5\n",
       "4           GMM          0.568844                5"
      ]
     },
     "execution_count": 35,
     "metadata": {},
     "output_type": "execute_result"
    }
   ],
   "source": [
    "clustring_algorithms_results"
   ]
  },
  {
   "cell_type": "markdown",
   "id": "reflected-delta",
   "metadata": {},
   "source": [
    "### Realtime Process"
   ]
  },
  {
   "cell_type": "code",
   "execution_count": 48,
   "id": "cellular-stationery",
   "metadata": {},
   "outputs": [],
   "source": [
    "from tensorflow_object_detection import DetectorAPI\n",
    "\n",
    "object_threshold = 0.98\n",
    "odapi = DetectorAPI()\n",
    "vs = cv2.VideoCapture(\"video.mp4\")\n",
    "rec = []\n",
    "\n",
    "def draw_faces(image, face):\n",
    "    (x, y, x1, y1) = [ v for v in face[\"face_location\"]]\n",
    "    cv2.rectangle(image, (x, y), (x1, y1), (255, 0, 0), 9)\n",
    "        \n",
    "def get_person_id(face_encodings, unknown_face_encoding):\n",
    "    \n",
    "    face_distances = []\n",
    "    \n",
    "    for face_encoding in face_encodings:\n",
    "        face_distances.append(np.linalg.norm(face_encoding-unknown_face_encoding))\n",
    "    \n",
    "    best_match_index = np.argmin(face_distances)\n",
    "    best_match = pca_df_all_data.iloc[best_match_index]\n",
    "    \n",
    "    return best_match\n",
    "\n",
    "#Loop Video Stream   \n",
    "while True:\n",
    "\n",
    "    (grabbed, frame) = vs.read()\n",
    "\n",
    "    if frame is None:\n",
    "        break\n",
    "\n",
    "    image = frame.copy()\n",
    "\n",
    "    # Class 1 represents human\n",
    "    persons = odapi.filter_detected_items(1, object_threshold, odapi, frame)\n",
    "    \n",
    "    # Visualization of the results of a detection.\n",
    "    for person in persons:\n",
    "\n",
    "        # Crop person from image\n",
    "        y, x, y2, x2 = [ v for v in person[\"box\"]]\n",
    "        human = frame[y:y2, x:x2]\n",
    "\n",
    "        # detect_faces\n",
    "        faces = faceDetection.detect_faces(human, \"video.mp4\", 0.6)\n",
    "        \n",
    "        if(len(faces)==0):\n",
    "            break\n",
    "            \n",
    "        face = faces[0]\n",
    "        \n",
    "        face_id = get_person_id(face_encodings, face[\"face_encoding\"])\n",
    "        \n",
    "        human = cv2.resize(human, (300, 300))\n",
    "        cv2.imshow('human',human)\n",
    "        \n",
    "        date = time.asctime(time.localtime(time.time()))\n",
    "        \n",
    "        \n",
    "        print(\"start skeletons\")\n",
    "        \n",
    "        skeletons, humans, scale_h = action_recognition.detect_skeletons(image)\n",
    "        dict_id2skeleton = action_recognition.people_track(skeletons)\n",
    "        dict_id2label = action_recognition.recognize_action(dict_id2skeleton)\n",
    "        \n",
    "        if(len(skeletons)==0):\n",
    "            continue\n",
    "            \n",
    "        print(\"\\ny\", \"x\", \"y2\", \"x2\")\n",
    "        print(y, x, y2, x2)\n",
    "        \n",
    "        image_w, image_h, _ = frame.shape\n",
    "        \n",
    "        centers = []\n",
    "        \n",
    "        for i, human in enumerate(humans):\n",
    "                   \n",
    "            allBodyPoints = []\n",
    "            \n",
    "            for i in 18:\n",
    "                if(human.body_parts[i].x > 0 and human.body_parts[i].y > 0 ):\n",
    "                    pointX = int(human.body_parts[i].x * image_w + 0.5)\n",
    "                    pointY = int(human.body_parts[i].y * image_h + 0.5)\n",
    "                    allBodyPoints.append((pointX, pointY))\n",
    "            \n",
    "            center = np.mean(allBodyPoints, axis=0)\n",
    "            centers.append(center)\n",
    "            \n",
    "        print(centers)\n",
    "        \n",
    "        distances = []\n",
    "        top, right, bottom, left = [ v for v in face[\"face_location\"]]   \n",
    "        faceBoxCenter = np.mean(data, axis=0)\n",
    "        for c in centers:\n",
    "            dis = np.linalg.norm(c-faceBoxCenter)\n",
    "        distances.append(dis)\n",
    "        best_match_index = np.argmin(face_distances)\n",
    "        best_match_skeleton = skeletons[best_match_index]\n",
    "        \n",
    "        key_list = list(dict_id2skeleton.keys())\n",
    "        val_list = list(dict_id2skeleton.values())\n",
    "        position = val_list.index(best_match_skeleton)\n",
    "        id = key_list[position]\n",
    "        label = dict_id2label[id]\n",
    "\n",
    "        print(label)\n",
    "        \n",
    "        rec.append({\"time\": date, \"cluster\": face_id.cluster, \"label\": label})\n",
    "        \n",
    "\n",
    "    key = cv2.waitKey(1) & 0xFF\n",
    "\n",
    "    if key == ord('q'):\n",
    "        break\n",
    "\n",
    "\n",
    "cv2.destroyAllWindows()"
   ]
  },
  {
   "cell_type": "code",
   "execution_count": 37,
   "id": "unlikely-jerusalem",
   "metadata": {},
   "outputs": [
    {
     "ename": "NameError",
     "evalue": "name 'rec' is not defined",
     "output_type": "error",
     "traceback": [
      "\u001b[1;31m---------------------------------------------------------------------------\u001b[0m",
      "\u001b[1;31mNameError\u001b[0m                                 Traceback (most recent call last)",
      "\u001b[1;32m<ipython-input-37-7dd9df1ba4c3>\u001b[0m in \u001b[0;36m<module>\u001b[1;34m\u001b[0m\n\u001b[1;32m----> 1\u001b[1;33m \u001b[0mrec\u001b[0m \u001b[1;33m=\u001b[0m \u001b[0mpd\u001b[0m\u001b[1;33m.\u001b[0m\u001b[0mDataFrame\u001b[0m\u001b[1;33m(\u001b[0m\u001b[0mrec\u001b[0m\u001b[1;33m)\u001b[0m\u001b[1;33m\u001b[0m\u001b[0m\n\u001b[0m\u001b[0;32m      2\u001b[0m \u001b[0mrec\u001b[0m\u001b[1;33m\u001b[0m\u001b[0m\n",
      "\u001b[1;31mNameError\u001b[0m: name 'rec' is not defined"
     ]
    }
   ],
   "source": [
    "rec = pd.DataFrame(rec)\n",
    "rec"
   ]
  },
  {
   "cell_type": "markdown",
   "id": "further-footwear",
   "metadata": {},
   "source": [
    "### Spark Clustering - KMEANS"
   ]
  },
  {
   "cell_type": "code",
   "execution_count": 42,
   "id": "efficient-intro",
   "metadata": {},
   "outputs": [],
   "source": [
    "from pyspark.sql import SparkSession\n",
    "from pyspark.ml.clustering import KMeans as SparkKmeans\n",
    "from pyspark.ml.evaluation import ClusteringEvaluator\n",
    "from pyspark.ml.linalg import Vectors\n",
    "from pyspark.ml.feature import VectorAssembler\n",
    "from pyspark.ml.feature import StandardScaler\n",
    "from pyspark import SparkConf\n",
    "\n",
    "spark = SparkSession.builder.appName(\"cruise1\").getOrCreate()\n",
    "feat_cols = [str(i) for i in range(0, best_pca_dimensions)]\n",
    "\n",
    "sparkDf = spark.createDataFrame(pca_df)\n",
    "\n",
    "vec_assembler = VectorAssembler(inputCols = feat_cols, outputCol=\"features\")\n",
    "cluster_final_data = vec_assembler.transform(sparkDf)"
   ]
  },
  {
   "cell_type": "code",
   "execution_count": 43,
   "id": "decent-combination",
   "metadata": {},
   "outputs": [
    {
     "name": "stdout",
     "output_type": "stream",
     "text": [
      "with K=2\n",
      "with silhouette=0.3307020842686031\n",
      "with K=3\n",
      "with silhouette=0.48501920437754015\n",
      "with K=4\n",
      "with silhouette=0.5066164150968113\n",
      "with K=5\n",
      "with silhouette=0.6882482688052228\n",
      "with K=6\n",
      "with silhouette=0.7858728170391831\n",
      "with K=7\n",
      "with silhouette=0.7590125293888434\n",
      "with K=8\n",
      "with silhouette=0.7154629770060749\n",
      "with K=9\n",
      "with silhouette=0.7011274204499452\n",
      "with K=10\n",
      "with silhouette=0.7169544803330058\n",
      "with K=11\n",
      "with silhouette=0.7415970202076416\n",
      "with K=12\n",
      "with silhouette=0.7144538698641792\n",
      "with K=13\n",
      "with silhouette=0.6495615366310327\n",
      "with K=14\n",
      "with silhouette=0.6960816191774026\n",
      "with K=15\n",
      "with silhouette=0.7220179513352218\n",
      "with K=16\n",
      "with silhouette=0.7017481148103735\n",
      "with K=17\n",
      "with silhouette=0.678787758005798\n",
      "with K=18\n",
      "with silhouette=0.615411822181274\n",
      "with K=19\n",
      "with silhouette=0.6187120557339646\n",
      "best_n_clusters:  6\n",
      "best_silhouette=0.7858728170391831\n"
     ]
    }
   ],
   "source": [
    "evaluator = ClusteringEvaluator()\n",
    "\n",
    "sil = []\n",
    "\n",
    "for k in range(2,20):\n",
    "    kmeans = SparkKmeans(featuresCol = 'features', k=k, seed=10)\n",
    "    model_k = kmeans.fit(cluster_final_data)\n",
    "    predictions = model_k.transform(cluster_final_data)\n",
    "    silhouette = evaluator.evaluate(predictions)\n",
    "    sil.append(silhouette)\n",
    "    print(\"with K={}\".format(k))\n",
    "    print(\"with silhouette={}\".format(silhouette))\n",
    "\n",
    "ind = np.argmax(sil) + 2\n",
    "print(\"best_n_clusters: \", ind)   \n",
    "silhouette_max = np.amax(sil)\n",
    "print(\"best_silhouette={}\".format(silhouette_max))"
   ]
  },
  {
   "cell_type": "code",
   "execution_count": 44,
   "id": "digital-locking",
   "metadata": {},
   "outputs": [
    {
     "data": {
      "image/png": "[encoded data removed]",
      "text/plain": [
       "<Figure size 864x432 with 1 Axes>"
      ]
     },
     "metadata": {},
     "output_type": "display_data"
    }
   ],
   "source": [
    "kmeans = SparkKmeans(featuresCol = 'features', k=ind)\n",
    "model_k = kmeans.fit(cluster_final_data)\n",
    "predictions  = model_k.transform(cluster_final_data).select('prediction').collect()\n",
    "labels = [p.prediction for p in predictions ]\n",
    "plot_clusters(pca_df, labels, \"KMEANS\")"
   ]
  },
  {
   "cell_type": "markdown",
   "id": "mediterranean-brand",
   "metadata": {},
   "source": [
    "### Spark Clustering - GMM"
   ]
  },
  {
   "cell_type": "code",
   "execution_count": 45,
   "id": "characteristic-manual",
   "metadata": {},
   "outputs": [
    {
     "name": "stdout",
     "output_type": "stream",
     "text": [
      "with K=2\n",
      "with silhouette=0.10146679472655819\n",
      "with K=3\n",
      "with silhouette=0.32145017272458604\n",
      "with K=4\n",
      "with silhouette=0.3156090227724592\n",
      "with K=5\n",
      "with silhouette=0.16309178874030228\n",
      "with K=6\n",
      "with silhouette=0.1503173180232295\n",
      "with K=7\n",
      "with silhouette=0.1271714639292572\n",
      "with K=8\n",
      "with silhouette=0.03814626370021831\n",
      "with K=9\n",
      "with silhouette=0.04579192758411788\n",
      "with K=10\n",
      "with silhouette=0.08576274944169845\n",
      "with K=11\n",
      "with silhouette=0.13630480046574744\n",
      "with K=12\n",
      "with silhouette=0.09873276670532964\n",
      "with K=13\n",
      "with silhouette=0.09178373908100573\n",
      "with K=14\n",
      "with silhouette=0.04393624655579751\n",
      "with K=15\n",
      "with silhouette=-0.032087836665338564\n",
      "with K=16\n",
      "with silhouette=-0.02481975227047865\n",
      "with K=17\n",
      "with silhouette=-0.06011474400772499\n",
      "with K=18\n",
      "with silhouette=0.1258844787589919\n",
      "with K=19\n",
      "with silhouette=0.03941956155140316\n",
      "best_n_clusters:  3\n",
      "best_silhouette=0.32145017272458604\n"
     ]
    },
    {
     "data": {
      "image/png": "[encoded data removed]",
      "text/plain": [
       "<Figure size 864x432 with 1 Axes>"
      ]
     },
     "metadata": {},
     "output_type": "display_data"
    }
   ],
   "source": [
    "from pyspark.ml.clustering import GaussianMixture as GMM\n",
    "\n",
    "sil = []\n",
    "\n",
    "for k in range(2,20):\n",
    "    gmm = GMM(seed=10).setK(k)\n",
    "    model_k = gmm.fit(cluster_final_data)\n",
    "    predictions = model_k.transform(cluster_final_data)\n",
    "    silhouette = evaluator.evaluate(predictions)\n",
    "    sil.append(silhouette)\n",
    "    print(\"with K={}\".format(k))\n",
    "    print(\"with silhouette={}\".format(silhouette))\n",
    "\n",
    "ind = np.argmax(sil) + 2\n",
    "print(\"best_n_clusters: \", ind)   \n",
    "silhouette_max = np.amax(sil)\n",
    "print(\"best_silhouette={}\".format(silhouette_max))\n",
    "\n",
    "# Trains Gaussian Mixture Model\n",
    "gmm = GMM(seed=10).setK(ind)\n",
    "model_k = gmm.fit(cluster_final_data)\n",
    "predictions = model_k.transform(cluster_final_data).select('prediction').collect()\n",
    "labels = [p.prediction for p in predictions ]\n",
    "plot_clusters(pca_df, labels, \"GMM\")"
   ]
  },
  {
   "cell_type": "code",
   "execution_count": null,
   "id": "approximate-experiment",
   "metadata": {},
   "outputs": [],
   "source": []
  }
 ],
 "metadata": {
  "kernelspec": {
   "display_name": "Python 3",
   "language": "python",
   "name": "python3"
  },
  "language_info": {
   "codemirror_mode": {
    "name": "ipython",
    "version": 3
   },
   "file_extension": ".py",
   "mimetype": "text/x-python",
   "name": "python",
   "nbconvert_exporter": "python",
   "pygments_lexer": "ipython3",
   "version": "3.6.2"
  }
 },
 "nbformat": 4,
 "nbformat_minor": 5
}
